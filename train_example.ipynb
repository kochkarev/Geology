{
 "cells": [
  {
   "cell_type": "code",
   "execution_count": 5,
   "metadata": {},
   "outputs": [],
   "source": [
    "import numpy as np\n",
    "import cv2\n",
    "import glob\n",
    "import itertools\n",
    "import os\n",
    "from tqdm import tqdm\n",
    "import random\n",
    "random.seed(0)\n",
    "class_colors = [(random.randint(0,255), random.randint(0,255), random.randint(0,255)) for _ in range(5000)]"
   ]
  },
  {
   "cell_type": "code",
   "execution_count": 6,
   "metadata": {},
   "outputs": [],
   "source": [
    "def get_pairs_from_paths(images_path , segs_path):\n",
    "    images = glob.glob(os.path.join(images_path,\"*.jpg\"))\n",
    "    segmentations = glob.glob(os.path.join(segs_path,\"*_NEW.png\")) \n",
    "\n",
    "    segmentations_d = dict(zip(segmentations,segmentations))\n",
    "\n",
    "    ret = []\n",
    "\n",
    "    for im in images:\n",
    "        seg_bnme = os.path.basename(im).replace(\".jpg\", \"_NEW.png\")\n",
    "        seg = os.path.join(segs_path , seg_bnme )\n",
    "        assert (seg in segmentations_d), (im + \" is present in \"+images_path +\" but \"+seg_bnme+\" is not found in \"+segs_path + \" . Make sure annotation image are in .png\")\n",
    "        ret.append((im , seg))\n",
    "\n",
    "    return ret"
   ]
  },
  {
   "cell_type": "code",
   "execution_count": 7,
   "metadata": {},
   "outputs": [],
   "source": [
    "def get_segmentation_arr( path , nClasses ,  width , height , no_reshape=False ):\n",
    "\n",
    "    seg_labels = np.zeros((  height , width  , nClasses ))\n",
    "\n",
    "    if type( path ) is np.ndarray:\n",
    "        img = path\n",
    "    else:\n",
    "        img = cv2.imread(path, 1)\n",
    "\n",
    "    img = cv2.resize(img, ( width , height ) , interpolation=cv2.INTER_NEAREST )\n",
    "    img = img[:, : , 0]\n",
    "\n",
    "    for c in range(nClasses):\n",
    "        seg_labels[: , : , c ] = (img == c ).astype(int)\n",
    "\n",
    "    if no_reshape:\n",
    "        return seg_labels\n",
    "\n",
    "    seg_labels = np.reshape(seg_labels, ( width*height , nClasses ))\n",
    "    return seg_labels"
   ]
  },
  {
   "cell_type": "code",
   "execution_count": 8,
   "metadata": {},
   "outputs": [],
   "source": [
    "def image_segmentation_generator( images_path , segs_path ,  batch_size,  n_classes , input_height , input_width , output_height , output_width  , do_augment=False ):\n",
    "\n",
    "    img_seg_pairs = get_pairs_from_paths( images_path , segs_path )\n",
    "    random.shuffle( img_seg_pairs )\n",
    "    zipped = itertools.cycle( img_seg_pairs  )\n",
    "\n",
    "    while True:\n",
    "        X = []\n",
    "        Y = []\n",
    "        for _ in range( batch_size) :\n",
    "            im , seg = next(zipped) \n",
    "\n",
    "            im = cv2.imread(im , 1 )\n",
    "            seg = cv2.imread(seg , 1 )\n",
    "\n",
    "            if do_augment:\n",
    "                im , seg[:,:,0] = augment_seg( im , seg[:,:,0] )\n",
    "\n",
    "            X.append( get_image_arr(im , input_width , input_height ,odering=IMAGE_ORDERING )  )\n",
    "            Y.append( get_segmentation_arr( seg , n_classes , output_width , output_height )  )\n",
    "\n",
    "        yield np.array(X) , np.array(Y)"
   ]
  }
 ],
 "metadata": {
  "kernelspec": {
   "display_name": "Python 3",
   "language": "python",
   "name": "python3"
  },
  "language_info": {
   "codemirror_mode": {
    "name": "ipython",
    "version": 3
   },
   "file_extension": ".py",
   "mimetype": "text/x-python",
   "name": "python",
   "nbconvert_exporter": "python",
   "pygments_lexer": "ipython3",
   "version": "3.5.6"
  }
 },
 "nbformat": 4,
 "nbformat_minor": 2
}
